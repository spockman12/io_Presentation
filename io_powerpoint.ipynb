{
 "cells": [
  {
   "cell_type": "code",
   "execution_count": 1,
   "metadata": {
    "slideshow": {
     "slide_type": "skip"
    }
   },
   "outputs": [
    {
     "data": {
      "text/html": [
       "<script>var py = Jupyter.notebook.kernel</script>"
      ],
      "text/plain": [
       "<IPython.core.display.HTML object>"
      ]
     },
     "metadata": {},
     "output_type": "display_data"
    }
   ],
   "source": [
    "%run \"~/Apps/io_View/embed.ipynb\""
   ]
  },
  {
   "cell_type": "code",
   "execution_count": 2,
   "metadata": {
    "slideshow": {
     "slide_type": "slide"
    }
   },
   "outputs": [
    {
     "data": {
      "text/html": [
       "<img src='images/IMG_2519.jpg' width='100%' >"
      ],
      "text/plain": [
       "<IPython.core.display.HTML object>"
      ]
     },
     "metadata": {},
     "output_type": "display_data"
    }
   ],
   "source": [
    "display(HTML(\"<img src='images/IMG_2519.jpg' width='100%' >\"))"
   ]
  },
  {
   "cell_type": "code",
   "execution_count": 3,
   "metadata": {
    "slideshow": {
     "slide_type": "slide"
    }
   },
   "outputs": [
    {
     "data": {
      "text/html": [
       "<img src='images/IMG_2520.jpg' width='100%' >"
      ],
      "text/plain": [
       "<IPython.core.display.HTML object>"
      ]
     },
     "metadata": {},
     "output_type": "display_data"
    }
   ],
   "source": [
    "display(HTML(\"<img src='images/IMG_2520.jpg' width='100%' >\"))"
   ]
  },
  {
   "cell_type": "code",
   "execution_count": 4,
   "metadata": {
    "slideshow": {
     "slide_type": "slide"
    }
   },
   "outputs": [
    {
     "data": {
      "text/html": [
       "<img src='images/IMG_2538.jpg' width='100%' >"
      ],
      "text/plain": [
       "<IPython.core.display.HTML object>"
      ]
     },
     "metadata": {},
     "output_type": "display_data"
    }
   ],
   "source": [
    "display(HTML(\"<img src='images/IMG_2538.jpg' width='100%' >\"))"
   ]
  },
  {
   "cell_type": "code",
   "execution_count": 5,
   "metadata": {},
   "outputs": [
    {
     "data": {
      "text/html": [
       "\n",
       "<div class=\"row\"><div class=\"col-xs-12 col-md-offset-2 col-md-8\">\n",
       "<div class=\"embed-responsive embed-responsive-16by9\">\n",
       "  <iframe class=\"embed-responsive-item\" \n",
       "  src='https://www.youtube.com/embed/SrREjZSPqBI'></iframe></div>\n",
       "</div></div>\n"
      ],
      "text/plain": [
       "<IPython.core.display.HTML object>"
      ]
     },
     "metadata": {},
     "output_type": "display_data"
    }
   ],
   "source": [
    "# Code creates youtube video\n",
    "display(HTML(\"\"\"\n",
    "<div class=\"row\"><div class=\"col-xs-12 col-md-offset-2 col-md-8\">\n",
    "<div class=\"embed-responsive embed-responsive-16by9\">\n",
    "  <iframe class=\"embed-responsive-item\" \n",
    "  src='https://www.youtube.com/embed/SrREjZSPqBI'></iframe></div>\n",
    "</div></div>\n",
    "\"\"\"))"
   ]
  },
  {
   "cell_type": "code",
   "execution_count": 6,
   "metadata": {
    "slideshow": {
     "slide_type": "slide"
    }
   },
   "outputs": [
    {
     "data": {
      "text/html": [
       "<img src='images/IMG_2523.jpg' width='100%' >"
      ],
      "text/plain": [
       "<IPython.core.display.HTML object>"
      ]
     },
     "metadata": {},
     "output_type": "display_data"
    }
   ],
   "source": [
    "display(HTML(\"<img src='images/IMG_2523.jpg' width='100%' >\"))"
   ]
  },
  {
   "cell_type": "code",
   "execution_count": 7,
   "metadata": {
    "scrolled": false,
    "slideshow": {
     "slide_type": "slide"
    }
   },
   "outputs": [
    {
     "data": {
      "text/html": [
       "<img src='images/IMG_2533.jpg' width='100%' >"
      ],
      "text/plain": [
       "<IPython.core.display.HTML object>"
      ]
     },
     "metadata": {},
     "output_type": "display_data"
    }
   ],
   "source": [
    "display(HTML(\"<img src='images/IMG_2533.jpg' width='100%' >\"))"
   ]
  },
  {
   "cell_type": "code",
   "execution_count": 8,
   "metadata": {
    "slideshow": {
     "slide_type": "slide"
    }
   },
   "outputs": [
    {
     "data": {
      "text/html": [
       "<img src='images/IMG_2534.jpg' width='100%' >"
      ],
      "text/plain": [
       "<IPython.core.display.HTML object>"
      ]
     },
     "metadata": {},
     "output_type": "display_data"
    }
   ],
   "source": [
    "display(HTML(\"<img src='images/IMG_2534.jpg' width='100%' >\"))"
   ]
  },
  {
   "cell_type": "code",
   "execution_count": 9,
   "metadata": {
    "slideshow": {
     "slide_type": "slide"
    }
   },
   "outputs": [
    {
     "data": {
      "text/html": [
       "<img src='images/IMG_2540.jpg' width='100%' >"
      ],
      "text/plain": [
       "<IPython.core.display.HTML object>"
      ]
     },
     "metadata": {},
     "output_type": "display_data"
    }
   ],
   "source": [
    "display(HTML(\"<img src='images/IMG_2540.jpg' width='100%' >\"))"
   ]
  },
  {
   "cell_type": "code",
   "execution_count": 10,
   "metadata": {},
   "outputs": [
    {
     "data": {
      "text/html": [
       "\n",
       "    <div class=\"row\"><div class=\"col-xs-12 col-md-offset-2 col-md-8\">\n",
       "    <div class=\"embed-responsive embed-responsive-16by9\" style='border-style: solid;border-width: 1px;'>\n",
       "      <iframe class=\"embed-responsive-item\" \n",
       "      src='CocaNet.html'></iframe></div>\n",
       "    </div></div>\n",
       "    "
      ],
      "text/plain": [
       "<IPython.core.display.HTML object>"
      ]
     },
     "metadata": {},
     "output_type": "display_data"
    }
   ],
   "source": [
    "def embedFile(file_name, size=\"medium\"):\n",
    "    sizes = {'small':\"col-md-offset-4 col-md-4\", 'medium':\"col-md-offset-3 col-md-6\", 'large':\"col-md-offset-2 col-md-8\"}\n",
    "    my_size = sizes[size]\n",
    "    display(HTML(f\"\"\"\n",
    "    <div class=\"row\"><div class=\"col-xs-12 {my_size}\">\n",
    "    <div class=\"embed-responsive embed-responsive-16by9\" style='border-style: solid;border-width: 1px;'>\n",
    "      <iframe class=\"embed-responsive-item\" \n",
    "      src='{file_name}'></iframe></div>\n",
    "    </div></div>\n",
    "    \"\"\"))\n",
    "embedFile(\"CocaNet.html\", \"large\")"
   ]
  },
  {
   "cell_type": "code",
   "execution_count": 11,
   "metadata": {
    "slideshow": {
     "slide_type": "slide"
    }
   },
   "outputs": [
    {
     "data": {
      "text/html": [
       "<img src='images/IMG_2536.jpg' width='100%' >"
      ],
      "text/plain": [
       "<IPython.core.display.HTML object>"
      ]
     },
     "metadata": {},
     "output_type": "display_data"
    }
   ],
   "source": [
    "display(HTML(\"<img src='images/IMG_2536.jpg' width='100%' >\"))"
   ]
  },
  {
   "cell_type": "markdown",
   "metadata": {},
   "source": [
    "## Welcome to <font color=\"green\">widgets</font>"
   ]
  },
  {
   "cell_type": "markdown",
   "metadata": {},
   "source": [
    "``` python\n",
    "@interact(word='')\n",
    "def iLike(word):\n",
    "    display(HTML(f\"<p> I really like <b>{word}</b> </p>\"))\n",
    "```"
   ]
  },
  {
   "cell_type": "code",
   "execution_count": 12,
   "metadata": {},
   "outputs": [
    {
     "data": {
      "application/vnd.jupyter.widget-view+json": {
       "model_id": "83b2416565c94d9c91b100bf300cb66c",
       "version_major": 2,
       "version_minor": 0
      },
      "text/plain": [
       "interactive(children=(Text(value='', description='word'), Output()), _dom_classes=('widget-interact',))"
      ]
     },
     "metadata": {},
     "output_type": "display_data"
    }
   ],
   "source": [
    "@interact(word='')\n",
    "def iLike(word):\n",
    "    display(HTML(f\"<p> I really like <b>{word}</b> </p>\"))"
   ]
  },
  {
   "cell_type": "markdown",
   "metadata": {},
   "source": [
    "## Use Color Comments <font color=\"red\">error here</font>"
   ]
  },
  {
   "cell_type": "markdown",
   "metadata": {},
   "source": [
    "``` python\n",
    "1 = 2\n",
    "```"
   ]
  },
  {
   "cell_type": "code",
   "execution_count": 13,
   "metadata": {},
   "outputs": [
    {
     "data": {
      "text/plain": [
       "False"
      ]
     },
     "execution_count": 13,
     "metadata": {},
     "output_type": "execute_result"
    }
   ],
   "source": [
    "1 == 2"
   ]
  },
  {
   "cell_type": "code",
   "execution_count": 14,
   "metadata": {
    "slideshow": {
     "slide_type": "slide"
    }
   },
   "outputs": [
    {
     "data": {
      "text/html": [
       "<img src='images/IMG_2537.jpg' width='100%' >"
      ],
      "text/plain": [
       "<IPython.core.display.HTML object>"
      ]
     },
     "metadata": {},
     "output_type": "display_data"
    }
   ],
   "source": [
    "display(HTML(\"<img src='images/IMG_2537.jpg' width='100%' >\"))"
   ]
  },
  {
   "cell_type": "code",
   "execution_count": null,
   "metadata": {},
   "outputs": [],
   "source": []
  }
 ],
 "metadata": {
  "hide_input": false,
  "kernelspec": {
   "display_name": "Python 3",
   "language": "python",
   "name": "python3"
  },
  "language_info": {
   "codemirror_mode": {
    "name": "ipython",
    "version": 3
   },
   "file_extension": ".py",
   "mimetype": "text/x-python",
   "name": "python",
   "nbconvert_exporter": "python",
   "pygments_lexer": "ipython3",
   "version": "3.7.3"
  },
  "toc": {
   "base_numbering": 1,
   "nav_menu": {},
   "number_sections": true,
   "sideBar": true,
   "skip_h1_title": false,
   "title_cell": "Table of Contents",
   "title_sidebar": "Contents",
   "toc_cell": false,
   "toc_position": {},
   "toc_section_display": true,
   "toc_window_display": false
  },
  "varInspector": {
   "cols": {
    "lenName": 16,
    "lenType": 16,
    "lenVar": 40
   },
   "kernels_config": {
    "python": {
     "delete_cmd_postfix": "",
     "delete_cmd_prefix": "del ",
     "library": "var_list.py",
     "varRefreshCmd": "print(var_dic_list())"
    },
    "r": {
     "delete_cmd_postfix": ") ",
     "delete_cmd_prefix": "rm(",
     "library": "var_list.r",
     "varRefreshCmd": "cat(var_dic_list()) "
    }
   },
   "types_to_exclude": [
    "module",
    "function",
    "builtin_function_or_method",
    "instance",
    "_Feature"
   ],
   "window_display": false
  },
  "widgets": {
   "application/vnd.jupyter.widget-state+json": {
    "state": {
     "35ea972905f64e5ab6f69bf351aa9efe": {
      "model_module": "@jupyter-widgets/base",
      "model_module_version": "1.1.0",
      "model_name": "LayoutModel",
      "state": {}
     },
     "464ae11d422d4e2595ffebd9c584372b": {
      "model_module": "@jupyter-widgets/base",
      "model_module_version": "1.1.0",
      "model_name": "LayoutModel",
      "state": {}
     },
     "46a18fd66cff4e8f82866547ad2f7c94": {
      "model_module": "@jupyter-widgets/controls",
      "model_module_version": "1.4.0",
      "model_name": "TextModel",
      "state": {
       "description": "word",
       "layout": "IPY_MODEL_464ae11d422d4e2595ffebd9c584372b",
       "style": "IPY_MODEL_5518694d2a294066b4bad337912f07d9"
      }
     },
     "4c2dce4f267e43da9c6b4ca043fb09b5": {
      "model_module": "@jupyter-widgets/controls",
      "model_module_version": "1.4.0",
      "model_name": "TextModel",
      "state": {
       "description": "word",
       "layout": "IPY_MODEL_91c11d719a9644be9d21e6bf43ad5382",
       "style": "IPY_MODEL_ed4107f33e814bd9a5f147702b3975e3"
      }
     },
     "5518694d2a294066b4bad337912f07d9": {
      "model_module": "@jupyter-widgets/controls",
      "model_module_version": "1.4.0",
      "model_name": "DescriptionStyleModel",
      "state": {
       "description_width": ""
      }
     },
     "5e3c8eecb94d46428a5c9f1d42de1d57": {
      "model_module": "@jupyter-widgets/base",
      "model_module_version": "1.1.0",
      "model_name": "LayoutModel",
      "state": {}
     },
     "70cf0ea9d74c4b78b61ece8ed7b4b3fc": {
      "model_module": "@jupyter-widgets/controls",
      "model_module_version": "1.4.0",
      "model_name": "VBoxModel",
      "state": {
       "_dom_classes": [
        "widget-interact"
       ],
       "children": [
        "IPY_MODEL_46a18fd66cff4e8f82866547ad2f7c94",
        "IPY_MODEL_a6b324949fc845de81d081f019d0e20a"
       ],
       "layout": "IPY_MODEL_5e3c8eecb94d46428a5c9f1d42de1d57"
      }
     },
     "8bbe45a266fb47e893f52b0676ec9304": {
      "model_module": "@jupyter-widgets/controls",
      "model_module_version": "1.4.0",
      "model_name": "VBoxModel",
      "state": {
       "_dom_classes": [
        "widget-interact"
       ],
       "children": [
        "IPY_MODEL_4c2dce4f267e43da9c6b4ca043fb09b5",
        "IPY_MODEL_997ae60713c54aa8bb39c8ad951e83ea"
       ],
       "layout": "IPY_MODEL_de6f693983744172bbca92b326981e50"
      }
     },
     "91c11d719a9644be9d21e6bf43ad5382": {
      "model_module": "@jupyter-widgets/base",
      "model_module_version": "1.1.0",
      "model_name": "LayoutModel",
      "state": {}
     },
     "997ae60713c54aa8bb39c8ad951e83ea": {
      "model_module": "@jupyter-widgets/output",
      "model_module_version": "1.0.0",
      "model_name": "OutputModel",
      "state": {
       "layout": "IPY_MODEL_35ea972905f64e5ab6f69bf351aa9efe",
       "outputs": [
        {
         "data": {
          "text/html": "<p> I really like <b></b> </p>",
          "text/plain": "<IPython.core.display.HTML object>"
         },
         "metadata": {},
         "output_type": "display_data"
        }
       ]
      }
     },
     "a6b324949fc845de81d081f019d0e20a": {
      "model_module": "@jupyter-widgets/output",
      "model_module_version": "1.0.0",
      "model_name": "OutputModel",
      "state": {
       "layout": "IPY_MODEL_e57d918c06424f6e998fd83cee75e8f1",
       "outputs": [
        {
         "data": {
          "text/html": "<p> I really like <b></b> </p>",
          "text/plain": "<IPython.core.display.HTML object>"
         },
         "metadata": {},
         "output_type": "display_data"
        }
       ]
      }
     },
     "de6f693983744172bbca92b326981e50": {
      "model_module": "@jupyter-widgets/base",
      "model_module_version": "1.1.0",
      "model_name": "LayoutModel",
      "state": {}
     },
     "e57d918c06424f6e998fd83cee75e8f1": {
      "model_module": "@jupyter-widgets/base",
      "model_module_version": "1.1.0",
      "model_name": "LayoutModel",
      "state": {}
     },
     "ed4107f33e814bd9a5f147702b3975e3": {
      "model_module": "@jupyter-widgets/controls",
      "model_module_version": "1.4.0",
      "model_name": "DescriptionStyleModel",
      "state": {
       "description_width": ""
      }
     }
    },
    "version_major": 2,
    "version_minor": 0
   }
  }
 },
 "nbformat": 4,
 "nbformat_minor": 2
}
